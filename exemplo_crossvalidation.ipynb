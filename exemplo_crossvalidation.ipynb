{
  "nbformat": 4,
  "nbformat_minor": 0,
  "metadata": {
    "language_info": {
      "codemirror_mode": {
        "name": "ipython",
        "version": 3
      },
      "file_extension": ".py",
      "mimetype": "text/x-python",
      "name": "python",
      "nbconvert_exporter": "python",
      "pygments_lexer": "ipython3",
      "version": "3.8.3-final"
    },
    "orig_nbformat": 2,
    "kernelspec": {
      "name": "python3",
      "display_name": "Python 3",
      "language": "python"
    },
    "colab": {
      "name": "exemplo_crossvalidation.ipynb",
      "provenance": [],
      "include_colab_link": true
    }
  },
  "cells": [
    {
      "cell_type": "markdown",
      "metadata": {
        "id": "view-in-github",
        "colab_type": "text"
      },
      "source": [
        "<a href=\"https://colab.research.google.com/github/iuryrosal/data-science/blob/master/exemplo_crossvalidation.ipynb\" target=\"_parent\"><img src=\"https://colab.research.google.com/assets/colab-badge.svg\" alt=\"Open In Colab\"/></a>"
      ]
    },
    {
      "cell_type": "code",
      "metadata": {
        "id": "tOKKxrv98Mv4"
      },
      "source": [
        "from sklearn.linear_model import LinearRegression\n",
        "import pandas as pd\n",
        "import numpy as np\n",
        "import sklearn"
      ],
      "execution_count": null,
      "outputs": []
    },
    {
      "cell_type": "code",
      "metadata": {
        "id": "5oMFdea58Mv8",
        "outputId": "d09c9927-6ff5-4f0f-a756-ae5b28ddccc5"
      },
      "source": [
        "file = pd.read_csv('houses_to_rent_v2.csv', encoding='latin1', decimal=',', sep=',')\n",
        "file"
      ],
      "execution_count": null,
      "outputs": [
        {
          "output_type": "execute_result",
          "data": {
            "text/plain": [
              "                 city  area  rooms  bathroom  parking spaces floor     animal  \\\n",
              "0          SÃ£o Paulo    70      2         1               1     7      acept   \n",
              "1          SÃ£o Paulo   320      4         4               0    20      acept   \n",
              "2        Porto Alegre    80      1         1               1     6      acept   \n",
              "3        Porto Alegre    51      2         1               0     2      acept   \n",
              "4          SÃ£o Paulo    25      1         1               0     1  not acept   \n",
              "...               ...   ...    ...       ...             ...   ...        ...   \n",
              "10687    Porto Alegre    63      2         1               1     5  not acept   \n",
              "10688      SÃ£o Paulo   285      4         4               4    17      acept   \n",
              "10689  Rio de Janeiro    70      3         3               0     8  not acept   \n",
              "10690  Rio de Janeiro   120      2         2               2     8      acept   \n",
              "10691      SÃ£o Paulo    80      2         1               0     -      acept   \n",
              "\n",
              "           furniture  hoa (R$)  rent amount (R$)  property tax (R$)  \\\n",
              "0          furnished      2065              3300                211   \n",
              "1      not furnished      1200              4960               1750   \n",
              "2      not furnished      1000              2800                  0   \n",
              "3      not furnished       270              1112                 22   \n",
              "4      not furnished         0               800                 25   \n",
              "...              ...       ...               ...                ...   \n",
              "10687      furnished       402              1478                 24   \n",
              "10688  not furnished      3100             15000                973   \n",
              "10689      furnished       980              6000                332   \n",
              "10690      furnished      1585             12000                279   \n",
              "10691  not furnished         0              1400                165   \n",
              "\n",
              "       fire insurance (R$)  total (R$)  \n",
              "0                       42        5618  \n",
              "1                       63        7973  \n",
              "2                       41        3841  \n",
              "3                       17        1421  \n",
              "4                       11         836  \n",
              "...                    ...         ...  \n",
              "10687                   22        1926  \n",
              "10688                  191       19260  \n",
              "10689                   78        7390  \n",
              "10690                  155       14020  \n",
              "10691                   22        1587  \n",
              "\n",
              "[10692 rows x 13 columns]"
            ],
            "text/html": "<div>\n<style scoped>\n    .dataframe tbody tr th:only-of-type {\n        vertical-align: middle;\n    }\n\n    .dataframe tbody tr th {\n        vertical-align: top;\n    }\n\n    .dataframe thead th {\n        text-align: right;\n    }\n</style>\n<table border=\"1\" class=\"dataframe\">\n  <thead>\n    <tr style=\"text-align: right;\">\n      <th></th>\n      <th>city</th>\n      <th>area</th>\n      <th>rooms</th>\n      <th>bathroom</th>\n      <th>parking spaces</th>\n      <th>floor</th>\n      <th>animal</th>\n      <th>furniture</th>\n      <th>hoa (R$)</th>\n      <th>rent amount (R$)</th>\n      <th>property tax (R$)</th>\n      <th>fire insurance (R$)</th>\n      <th>total (R$)</th>\n    </tr>\n  </thead>\n  <tbody>\n    <tr>\n      <th>0</th>\n      <td>SÃ£o Paulo</td>\n      <td>70</td>\n      <td>2</td>\n      <td>1</td>\n      <td>1</td>\n      <td>7</td>\n      <td>acept</td>\n      <td>furnished</td>\n      <td>2065</td>\n      <td>3300</td>\n      <td>211</td>\n      <td>42</td>\n      <td>5618</td>\n    </tr>\n    <tr>\n      <th>1</th>\n      <td>SÃ£o Paulo</td>\n      <td>320</td>\n      <td>4</td>\n      <td>4</td>\n      <td>0</td>\n      <td>20</td>\n      <td>acept</td>\n      <td>not furnished</td>\n      <td>1200</td>\n      <td>4960</td>\n      <td>1750</td>\n      <td>63</td>\n      <td>7973</td>\n    </tr>\n    <tr>\n      <th>2</th>\n      <td>Porto Alegre</td>\n      <td>80</td>\n      <td>1</td>\n      <td>1</td>\n      <td>1</td>\n      <td>6</td>\n      <td>acept</td>\n      <td>not furnished</td>\n      <td>1000</td>\n      <td>2800</td>\n      <td>0</td>\n      <td>41</td>\n      <td>3841</td>\n    </tr>\n    <tr>\n      <th>3</th>\n      <td>Porto Alegre</td>\n      <td>51</td>\n      <td>2</td>\n      <td>1</td>\n      <td>0</td>\n      <td>2</td>\n      <td>acept</td>\n      <td>not furnished</td>\n      <td>270</td>\n      <td>1112</td>\n      <td>22</td>\n      <td>17</td>\n      <td>1421</td>\n    </tr>\n    <tr>\n      <th>4</th>\n      <td>SÃ£o Paulo</td>\n      <td>25</td>\n      <td>1</td>\n      <td>1</td>\n      <td>0</td>\n      <td>1</td>\n      <td>not acept</td>\n      <td>not furnished</td>\n      <td>0</td>\n      <td>800</td>\n      <td>25</td>\n      <td>11</td>\n      <td>836</td>\n    </tr>\n    <tr>\n      <th>...</th>\n      <td>...</td>\n      <td>...</td>\n      <td>...</td>\n      <td>...</td>\n      <td>...</td>\n      <td>...</td>\n      <td>...</td>\n      <td>...</td>\n      <td>...</td>\n      <td>...</td>\n      <td>...</td>\n      <td>...</td>\n      <td>...</td>\n    </tr>\n    <tr>\n      <th>10687</th>\n      <td>Porto Alegre</td>\n      <td>63</td>\n      <td>2</td>\n      <td>1</td>\n      <td>1</td>\n      <td>5</td>\n      <td>not acept</td>\n      <td>furnished</td>\n      <td>402</td>\n      <td>1478</td>\n      <td>24</td>\n      <td>22</td>\n      <td>1926</td>\n    </tr>\n    <tr>\n      <th>10688</th>\n      <td>SÃ£o Paulo</td>\n      <td>285</td>\n      <td>4</td>\n      <td>4</td>\n      <td>4</td>\n      <td>17</td>\n      <td>acept</td>\n      <td>not furnished</td>\n      <td>3100</td>\n      <td>15000</td>\n      <td>973</td>\n      <td>191</td>\n      <td>19260</td>\n    </tr>\n    <tr>\n      <th>10689</th>\n      <td>Rio de Janeiro</td>\n      <td>70</td>\n      <td>3</td>\n      <td>3</td>\n      <td>0</td>\n      <td>8</td>\n      <td>not acept</td>\n      <td>furnished</td>\n      <td>980</td>\n      <td>6000</td>\n      <td>332</td>\n      <td>78</td>\n      <td>7390</td>\n    </tr>\n    <tr>\n      <th>10690</th>\n      <td>Rio de Janeiro</td>\n      <td>120</td>\n      <td>2</td>\n      <td>2</td>\n      <td>2</td>\n      <td>8</td>\n      <td>acept</td>\n      <td>furnished</td>\n      <td>1585</td>\n      <td>12000</td>\n      <td>279</td>\n      <td>155</td>\n      <td>14020</td>\n    </tr>\n    <tr>\n      <th>10691</th>\n      <td>SÃ£o Paulo</td>\n      <td>80</td>\n      <td>2</td>\n      <td>1</td>\n      <td>0</td>\n      <td>-</td>\n      <td>acept</td>\n      <td>not furnished</td>\n      <td>0</td>\n      <td>1400</td>\n      <td>165</td>\n      <td>22</td>\n      <td>1587</td>\n    </tr>\n  </tbody>\n</table>\n<p>10692 rows × 13 columns</p>\n</div>"
          },
          "metadata": {},
          "execution_count": 2
        }
      ]
    },
    {
      "cell_type": "code",
      "metadata": {
        "id": "qcXfdR4D8Mv9"
      },
      "source": [
        "file_clean = file.drop(columns=['city', 'animal', 'furniture', 'hoa (R$)', 'property tax (R$)', 'rent amount (R$)', 'fire insurance (R$)'])"
      ],
      "execution_count": null,
      "outputs": []
    },
    {
      "cell_type": "code",
      "metadata": {
        "id": "qAN5gagn8Mv9",
        "outputId": "2f05fc99-b0a6-4e5e-8fe5-63b604dc75b5"
      },
      "source": [
        "file_clean"
      ],
      "execution_count": null,
      "outputs": [
        {
          "output_type": "execute_result",
          "data": {
            "text/plain": [
              "       area  rooms  bathroom  parking spaces floor  total (R$)\n",
              "0        70      2         1               1     7        5618\n",
              "1       320      4         4               0    20        7973\n",
              "2        80      1         1               1     6        3841\n",
              "3        51      2         1               0     2        1421\n",
              "4        25      1         1               0     1         836\n",
              "...     ...    ...       ...             ...   ...         ...\n",
              "10687    63      2         1               1     5        1926\n",
              "10688   285      4         4               4    17       19260\n",
              "10689    70      3         3               0     8        7390\n",
              "10690   120      2         2               2     8       14020\n",
              "10691    80      2         1               0     -        1587\n",
              "\n",
              "[10692 rows x 6 columns]"
            ],
            "text/html": "<div>\n<style scoped>\n    .dataframe tbody tr th:only-of-type {\n        vertical-align: middle;\n    }\n\n    .dataframe tbody tr th {\n        vertical-align: top;\n    }\n\n    .dataframe thead th {\n        text-align: right;\n    }\n</style>\n<table border=\"1\" class=\"dataframe\">\n  <thead>\n    <tr style=\"text-align: right;\">\n      <th></th>\n      <th>area</th>\n      <th>rooms</th>\n      <th>bathroom</th>\n      <th>parking spaces</th>\n      <th>floor</th>\n      <th>total (R$)</th>\n    </tr>\n  </thead>\n  <tbody>\n    <tr>\n      <th>0</th>\n      <td>70</td>\n      <td>2</td>\n      <td>1</td>\n      <td>1</td>\n      <td>7</td>\n      <td>5618</td>\n    </tr>\n    <tr>\n      <th>1</th>\n      <td>320</td>\n      <td>4</td>\n      <td>4</td>\n      <td>0</td>\n      <td>20</td>\n      <td>7973</td>\n    </tr>\n    <tr>\n      <th>2</th>\n      <td>80</td>\n      <td>1</td>\n      <td>1</td>\n      <td>1</td>\n      <td>6</td>\n      <td>3841</td>\n    </tr>\n    <tr>\n      <th>3</th>\n      <td>51</td>\n      <td>2</td>\n      <td>1</td>\n      <td>0</td>\n      <td>2</td>\n      <td>1421</td>\n    </tr>\n    <tr>\n      <th>4</th>\n      <td>25</td>\n      <td>1</td>\n      <td>1</td>\n      <td>0</td>\n      <td>1</td>\n      <td>836</td>\n    </tr>\n    <tr>\n      <th>...</th>\n      <td>...</td>\n      <td>...</td>\n      <td>...</td>\n      <td>...</td>\n      <td>...</td>\n      <td>...</td>\n    </tr>\n    <tr>\n      <th>10687</th>\n      <td>63</td>\n      <td>2</td>\n      <td>1</td>\n      <td>1</td>\n      <td>5</td>\n      <td>1926</td>\n    </tr>\n    <tr>\n      <th>10688</th>\n      <td>285</td>\n      <td>4</td>\n      <td>4</td>\n      <td>4</td>\n      <td>17</td>\n      <td>19260</td>\n    </tr>\n    <tr>\n      <th>10689</th>\n      <td>70</td>\n      <td>3</td>\n      <td>3</td>\n      <td>0</td>\n      <td>8</td>\n      <td>7390</td>\n    </tr>\n    <tr>\n      <th>10690</th>\n      <td>120</td>\n      <td>2</td>\n      <td>2</td>\n      <td>2</td>\n      <td>8</td>\n      <td>14020</td>\n    </tr>\n    <tr>\n      <th>10691</th>\n      <td>80</td>\n      <td>2</td>\n      <td>1</td>\n      <td>0</td>\n      <td>-</td>\n      <td>1587</td>\n    </tr>\n  </tbody>\n</table>\n<p>10692 rows × 6 columns</p>\n</div>"
          },
          "metadata": {},
          "execution_count": 4
        }
      ]
    },
    {
      "cell_type": "code",
      "metadata": {
        "id": "PjarDh_I8Mv-",
        "outputId": "4db807f0-ef61-4369-bc23-1687f5f7e82b"
      },
      "source": [
        "file_clean.floor.value_counts()"
      ],
      "execution_count": null,
      "outputs": [
        {
          "output_type": "execute_result",
          "data": {
            "text/plain": [
              "-      2461\n",
              "1      1081\n",
              "2       985\n",
              "3       931\n",
              "4       748\n",
              "5       600\n",
              "6       539\n",
              "7       497\n",
              "8       490\n",
              "9       369\n",
              "10      357\n",
              "11      303\n",
              "12      257\n",
              "13      200\n",
              "14      170\n",
              "15      147\n",
              "16      109\n",
              "17       96\n",
              "18       75\n",
              "19       53\n",
              "20       44\n",
              "21       42\n",
              "23       25\n",
              "25       25\n",
              "22       24\n",
              "26       20\n",
              "24       19\n",
              "27        8\n",
              "28        6\n",
              "29        5\n",
              "32        2\n",
              "301       1\n",
              "35        1\n",
              "51        1\n",
              "46        1\n",
              "Name: floor, dtype: int64"
            ]
          },
          "metadata": {},
          "execution_count": 5
        }
      ]
    },
    {
      "cell_type": "code",
      "metadata": {
        "id": "4-crogGF8Mv-"
      },
      "source": [
        "file_clean.floor.replace({'-': 0}, inplace=True)"
      ],
      "execution_count": null,
      "outputs": []
    },
    {
      "cell_type": "code",
      "metadata": {
        "id": "wKtACgvf8Mv_",
        "outputId": "159a1150-2518-475a-d627-32d409bbf0c0"
      },
      "source": [
        "file_clean.info()"
      ],
      "execution_count": null,
      "outputs": [
        {
          "output_type": "stream",
          "name": "stdout",
          "text": [
            "<class 'pandas.core.frame.DataFrame'>\nRangeIndex: 10692 entries, 0 to 10691\nData columns (total 6 columns):\n #   Column          Non-Null Count  Dtype \n---  ------          --------------  ----- \n 0   area            10692 non-null  int64 \n 1   rooms           10692 non-null  int64 \n 2   bathroom        10692 non-null  int64 \n 3   parking spaces  10692 non-null  int64 \n 4   floor           10692 non-null  object\n 5   total (R$)      10692 non-null  int64 \ndtypes: int64(5), object(1)\nmemory usage: 501.3+ KB\n"
          ]
        }
      ]
    },
    {
      "cell_type": "code",
      "metadata": {
        "id": "LlpW0JoO8MwA",
        "outputId": "1f04cc0e-2837-43fd-d35d-4653d5bba64b"
      },
      "source": [
        "features = [i for i in file_clean.columns if i != 'total (R$)']\n",
        "features"
      ],
      "execution_count": null,
      "outputs": [
        {
          "output_type": "execute_result",
          "data": {
            "text/plain": [
              "['area', 'rooms', 'bathroom', 'parking spaces', 'floor']"
            ]
          },
          "metadata": {},
          "execution_count": 8
        }
      ]
    },
    {
      "cell_type": "code",
      "metadata": {
        "id": "XsN92QHN8MwA",
        "outputId": "d7976480-346d-4886-95cf-02c516f71265"
      },
      "source": [
        "x = file_clean[features].values\n",
        "x"
      ],
      "execution_count": null,
      "outputs": [
        {
          "output_type": "execute_result",
          "data": {
            "text/plain": [
              "array([[70, 2, 1, 1, '7'],\n",
              "       [320, 4, 4, 0, '20'],\n",
              "       [80, 1, 1, 1, '6'],\n",
              "       ...,\n",
              "       [70, 3, 3, 0, '8'],\n",
              "       [120, 2, 2, 2, '8'],\n",
              "       [80, 2, 1, 0, 0]], dtype=object)"
            ]
          },
          "metadata": {},
          "execution_count": 9
        }
      ]
    },
    {
      "cell_type": "code",
      "metadata": {
        "id": "hShvhUAU8MwB",
        "outputId": "099d2ad9-91ab-417e-fab2-e203432591a1"
      },
      "source": [
        "y = file_clean['total (R$)'].values\n",
        "y"
      ],
      "execution_count": null,
      "outputs": [
        {
          "output_type": "execute_result",
          "data": {
            "text/plain": [
              "array([ 5618,  7973,  3841, ...,  7390, 14020,  1587], dtype=int64)"
            ]
          },
          "metadata": {},
          "execution_count": 10
        }
      ]
    },
    {
      "cell_type": "code",
      "metadata": {
        "id": "Ku4mhz_l8MwC"
      },
      "source": [
        "from sklearn.model_selection import train_test_split\n",
        "predictors_train, predictors_test, class_train, class_test = train_test_split(x, y, test_size=0.25) #75% para treinamento e 25% para teste"
      ],
      "execution_count": null,
      "outputs": []
    },
    {
      "cell_type": "code",
      "metadata": {
        "id": "lYHJvu-_8MwC",
        "outputId": "d877c149-d8ca-4629-92da-d973bc2b1d92"
      },
      "source": [
        "class_test.shape"
      ],
      "execution_count": null,
      "outputs": [
        {
          "output_type": "execute_result",
          "data": {
            "text/plain": [
              "(2673,)"
            ]
          },
          "metadata": {},
          "execution_count": 12
        }
      ]
    },
    {
      "cell_type": "code",
      "metadata": {
        "id": "S5xD-VKQ8MwC"
      },
      "source": [
        "regressor = LinearRegression()"
      ],
      "execution_count": null,
      "outputs": []
    },
    {
      "cell_type": "code",
      "metadata": {
        "id": "zr9D-xfr8MwD",
        "outputId": "9b81ba1b-0205-46f5-aa6e-ecde3f3cb8e7"
      },
      "source": [
        "regressor.fit(predictors_train, class_train)"
      ],
      "execution_count": null,
      "outputs": [
        {
          "output_type": "execute_result",
          "data": {
            "text/plain": [
              "LinearRegression()"
            ]
          },
          "metadata": {},
          "execution_count": 14
        }
      ]
    },
    {
      "cell_type": "code",
      "metadata": {
        "id": "PIHVd73C8MwD",
        "outputId": "3f7c5cb5-7111-4c79-8509-b13c7cef33cb"
      },
      "source": [
        "regressor.intercept_"
      ],
      "execution_count": null,
      "outputs": [
        {
          "output_type": "execute_result",
          "data": {
            "text/plain": [
              "315.805022844992"
            ]
          },
          "metadata": {},
          "execution_count": 15
        }
      ]
    },
    {
      "cell_type": "code",
      "metadata": {
        "id": "hLjnn_sm8MwD",
        "outputId": "328a2b0e-cfc1-42ca-b26d-a317a2f96d3a"
      },
      "source": [
        "regressor.coef_"
      ],
      "execution_count": null,
      "outputs": [
        {
          "output_type": "execute_result",
          "data": {
            "text/plain": [
              "array([ 9.87941457e-01, -6.77667092e+02,  2.86235186e+03, -5.30841677e+00,\n",
              "        7.74588461e+01])"
            ]
          },
          "metadata": {},
          "execution_count": 16
        }
      ]
    },
    {
      "cell_type": "code",
      "metadata": {
        "id": "7qdA2yKd8MwE",
        "outputId": "d3541bb5-0b21-4a94-df6a-01b4ff5394eb"
      },
      "source": [
        "previsoes = regressor.predict(predictors_test)\n",
        "previsoes"
      ],
      "execution_count": null,
      "outputs": [
        {
          "output_type": "execute_result",
          "data": {
            "text/plain": [
              "array([4459.48823616, 4154.9612684 , 8378.20216939, ..., 4828.05736239,\n",
              "       5210.44258877, 2520.24862088])"
            ]
          },
          "metadata": {},
          "execution_count": 17
        }
      ]
    },
    {
      "cell_type": "code",
      "metadata": {
        "id": "L4sE9xe98MwE",
        "outputId": "378768de-5cca-47a5-d75e-3fbeefc78f38"
      },
      "source": [
        "class_test"
      ],
      "execution_count": null,
      "outputs": [
        {
          "output_type": "execute_result",
          "data": {
            "text/plain": [
              "array([ 4419,  3803, 10110, ...,  3000,  4149,  2555], dtype=int64)"
            ]
          },
          "metadata": {},
          "execution_count": 18
        }
      ]
    },
    {
      "cell_type": "code",
      "metadata": {
        "id": "DV_7LU7z8MwE"
      },
      "source": [
        "from sklearn.metrics import mean_absolute_error"
      ],
      "execution_count": null,
      "outputs": []
    },
    {
      "cell_type": "code",
      "metadata": {
        "id": "I_JPkrcp8MwE",
        "outputId": "a9d707d3-4583-4d44-d592-f6bcdde53f7e"
      },
      "source": [
        "mae = mean_absolute_error(previsoes, class_test)\n",
        "mae"
      ],
      "execution_count": null,
      "outputs": [
        {
          "output_type": "execute_result",
          "data": {
            "text/plain": [
              "2441.259366263397"
            ]
          },
          "metadata": {},
          "execution_count": 20
        }
      ]
    },
    {
      "cell_type": "code",
      "metadata": {
        "id": "pPLJCMx38MwE",
        "outputId": "5e534f3b-8628-4f45-94eb-4bfad61fbe63"
      },
      "source": [
        "previsoes.mean()"
      ],
      "execution_count": null,
      "outputs": [
        {
          "output_type": "execute_result",
          "data": {
            "text/plain": [
              "5631.625217631562"
            ]
          },
          "metadata": {},
          "execution_count": 21
        }
      ]
    },
    {
      "cell_type": "code",
      "metadata": {
        "id": "1gmWEW2J8MwE",
        "outputId": "da1d555a-5580-48c0-edd5-d858bb62067b"
      },
      "source": [
        "class_test.mean()"
      ],
      "execution_count": null,
      "outputs": [
        {
          "output_type": "execute_result",
          "data": {
            "text/plain": [
              "5387.5742611298165"
            ]
          },
          "metadata": {},
          "execution_count": 22
        }
      ]
    },
    {
      "cell_type": "markdown",
      "metadata": {
        "id": "UTl3urG88MwF"
      },
      "source": [
        "## Cross Validation"
      ]
    },
    {
      "cell_type": "markdown",
      "metadata": {
        "id": "xjZK3kVm8MwG"
      },
      "source": [
        "### Entendendo o K-folds"
      ]
    },
    {
      "cell_type": "code",
      "metadata": {
        "id": "lfoum00T8MwG"
      },
      "source": [
        "from sklearn.model_selection import cross_val_score\n",
        "from sklearn.model_selection import KFold"
      ],
      "execution_count": null,
      "outputs": []
    },
    {
      "cell_type": "code",
      "metadata": {
        "id": "qhY576yT8MwG",
        "outputId": "555480ba-3b8c-4611-fd04-0861becdd7db"
      },
      "source": [
        "seed = 1234567\n",
        "kf = KFold(n_splits=2, random_state=seed)\n",
        "kf"
      ],
      "execution_count": null,
      "outputs": [
        {
          "output_type": "execute_result",
          "data": {
            "text/plain": [
              "KFold(n_splits=2, random_state=1234567, shuffle=False)"
            ]
          },
          "metadata": {},
          "execution_count": 24
        }
      ]
    },
    {
      "cell_type": "code",
      "metadata": {
        "id": "F89bKE238MwG",
        "outputId": "35a8b8cf-4a4f-47a8-896c-d1305c8f51a7"
      },
      "source": [
        "i = 0\n",
        "for train, test in kf.split(x):\n",
        "    i = i + 1\n",
        "    print(f'Separação {i}: \\n Treino: {x[train]} \\n\\n Teste: {x[test]}\\n')"
      ],
      "execution_count": null,
      "outputs": [
        {
          "output_type": "stream",
          "name": "stdout",
          "text": [
            "Separação 1: \n Treino: [[130 3 2 3 0]\n [49 1 1 1 '1']\n [28 1 1 0 '5']\n ...\n [70 3 3 0 '8']\n [120 2 2 2 '8']\n [80 2 1 0 0]] \n\n Teste: [[70 2 1 1 '7']\n [320 4 4 0 '20']\n [80 1 1 1 '6']\n ...\n [380 4 1 0 0]\n [140 2 2 1 '2']\n [520 3 4 3 0]]\n\nSeparação 2: \n Treino: [[70 2 1 1 '7']\n [320 4 4 0 '20']\n [80 1 1 1 '6']\n ...\n [380 4 1 0 0]\n [140 2 2 1 '2']\n [520 3 4 3 0]] \n\n Teste: [[130 3 2 3 0]\n [49 1 1 1 '1']\n [28 1 1 0 '5']\n ...\n [70 3 3 0 '8']\n [120 2 2 2 '8']\n [80 2 1 0 0]]\n\n"
          ]
        }
      ]
    },
    {
      "cell_type": "code",
      "metadata": {
        "id": "B72pstlS8MwG",
        "outputId": "8dca40c8-1495-4129-8b85-dcecdfe3de11"
      },
      "source": [
        "#https://scikit-learn.org/stable/modules/model_evaluation.html\n",
        "scores = cross_val_score(regressor, x, y, cv=kf, scoring='neg_mean_absolute_error')\n",
        "-scores"
      ],
      "execution_count": null,
      "outputs": [
        {
          "output_type": "execute_result",
          "data": {
            "text/plain": [
              "array([2510.48071157, 2512.40195219])"
            ]
          },
          "metadata": {},
          "execution_count": 26
        }
      ]
    },
    {
      "cell_type": "code",
      "metadata": {
        "id": "glD121hJ8MwH",
        "outputId": "096853c9-a5f0-4535-c5ca-4656590656d9"
      },
      "source": [
        "-scores.mean()"
      ],
      "execution_count": null,
      "outputs": [
        {
          "output_type": "execute_result",
          "data": {
            "text/plain": [
              "2511.4413318789784"
            ]
          },
          "metadata": {},
          "execution_count": 27
        }
      ]
    },
    {
      "cell_type": "markdown",
      "metadata": {
        "id": "oOexRM3Y8MwH"
      },
      "source": [
        "### Seleção de Features"
      ]
    },
    {
      "cell_type": "markdown",
      "metadata": {
        "id": "3ci91UGs8MwH"
      },
      "source": [
        "- Objetivo: Verificar qual features resultam no melhor modelo"
      ]
    },
    {
      "cell_type": "markdown",
      "metadata": {
        "id": "fQrqQtWd8MwH"
      },
      "source": [
        "- Modelo anterior: features: [ 'area', 'rooms', 'bathroom', 'parking spaces', 'floor' ]\n",
        "- MAE: 2511.4413318789784\n",
        "- Testaremos o mesmo modelo, mas utilizando sem a variável floor"
      ]
    },
    {
      "cell_type": "code",
      "metadata": {
        "id": "8rS7y3J_8MwH",
        "outputId": "1c7ac8bc-6a8f-4305-c15f-8b356abe854a"
      },
      "source": [
        "features = [i for i in file_clean.columns if (i != 'total (R$)') & (i != 'floor')]\n",
        "features"
      ],
      "execution_count": null,
      "outputs": [
        {
          "output_type": "execute_result",
          "data": {
            "text/plain": [
              "['area', 'rooms', 'bathroom', 'parking spaces']"
            ]
          },
          "metadata": {},
          "execution_count": 33
        }
      ]
    },
    {
      "cell_type": "code",
      "metadata": {
        "id": "QY5qjb318MwH"
      },
      "source": [
        "x = file_clean[features]"
      ],
      "execution_count": null,
      "outputs": []
    },
    {
      "cell_type": "code",
      "metadata": {
        "id": "XJMdaN5X8MwH",
        "outputId": "da47dc4a-8ea0-434a-de7d-49fe58dcf885"
      },
      "source": [
        "scores = cross_val_score(regressor, x, y, cv=kf, scoring='neg_mean_absolute_error')\n",
        "-scores"
      ],
      "execution_count": null,
      "outputs": [
        {
          "output_type": "execute_result",
          "data": {
            "text/plain": [
              "array([2579.14506302, 2565.49894155])"
            ]
          },
          "metadata": {},
          "execution_count": 35
        }
      ]
    },
    {
      "cell_type": "code",
      "metadata": {
        "id": "JS5kAQX08MwH",
        "outputId": "313fa050-0edb-477a-aca8-0b6d4ddcc2f5"
      },
      "source": [
        "-scores.mean()"
      ],
      "execution_count": null,
      "outputs": [
        {
          "output_type": "execute_result",
          "data": {
            "text/plain": [
              "2572.3220022847936"
            ]
          },
          "metadata": {},
          "execution_count": 36
        }
      ]
    },
    {
      "cell_type": "markdown",
      "metadata": {
        "id": "NEVud4XM8MwH"
      },
      "source": [
        "### Seleção de Modelo"
      ]
    },
    {
      "cell_type": "markdown",
      "metadata": {
        "id": "HZNGdY_E8MwI"
      },
      "source": [
        "- Objetivo: Verificar qual modelo possui os melhores resultados"
      ]
    },
    {
      "cell_type": "code",
      "metadata": {
        "id": "UmXKlA0c8MwI"
      },
      "source": [
        "from sklearn.linear_model import LassoLars"
      ],
      "execution_count": null,
      "outputs": []
    },
    {
      "cell_type": "code",
      "metadata": {
        "id": "YA2zjxiX8MwI"
      },
      "source": [
        "features = [i for i in file_clean.columns if i != 'total (R$)']\n",
        "x = file_clean[features]"
      ],
      "execution_count": null,
      "outputs": []
    },
    {
      "cell_type": "markdown",
      "metadata": {
        "id": "maLLjKUw8MwI"
      },
      "source": [
        "- Modelo de Regressão Linear com as mesmas features: MAE = 2511.4413318789784\n",
        "- Testar com o modelo de Regressão Linear Lasso"
      ]
    },
    {
      "cell_type": "code",
      "metadata": {
        "id": "1xrAe0u_8MwI",
        "outputId": "75830168-ef53-45b0-9578-f3dd71d7449b"
      },
      "source": [
        "scores = cross_val_score(LassoLars(), x, y, cv=kf, scoring='neg_mean_absolute_error')\n",
        "-scores"
      ],
      "execution_count": null,
      "outputs": [
        {
          "output_type": "execute_result",
          "data": {
            "text/plain": [
              "array([2496.5040381 , 2496.02174403])"
            ]
          },
          "metadata": {},
          "execution_count": 42
        }
      ]
    },
    {
      "cell_type": "code",
      "metadata": {
        "id": "ystBWed38MwI",
        "outputId": "11dfb4c5-0e84-4680-a298-2210613942d6"
      },
      "source": [
        "-scores.mean()"
      ],
      "execution_count": null,
      "outputs": [
        {
          "output_type": "execute_result",
          "data": {
            "text/plain": [
              "2496.262891064082"
            ]
          },
          "metadata": {},
          "execution_count": 43
        }
      ]
    },
    {
      "cell_type": "markdown",
      "metadata": {
        "id": "B9oQPONr8MwI"
      },
      "source": [
        "### Model Tuning"
      ]
    },
    {
      "cell_type": "markdown",
      "metadata": {
        "id": "Cop8PKo18MwI"
      },
      "source": [
        "- Objetivo: Obter o parâmetro do modelo que possui o melhor resultado"
      ]
    },
    {
      "cell_type": "code",
      "metadata": {
        "id": "wAoU5hCH8MwI"
      },
      "source": [
        "from sklearn.neighbors import KNeighborsClassifier\n",
        "from sklearn import metrics\n",
        "from sklearn.datasets import load_iris"
      ],
      "execution_count": null,
      "outputs": []
    },
    {
      "cell_type": "code",
      "metadata": {
        "id": "kdvrhbpS8MwJ"
      },
      "source": [
        "iris = load_iris()\n",
        "x = iris.data\n",
        "y = iris.target"
      ],
      "execution_count": null,
      "outputs": []
    },
    {
      "cell_type": "code",
      "metadata": {
        "id": "-zoiunY38MwJ",
        "outputId": "5311720d-27a4-43e1-dbc8-43c7e327d919"
      },
      "source": [
        "seed = 10000\n",
        "kf = KFold(n_splits=2, random_state=seed)\n",
        "kf"
      ],
      "execution_count": null,
      "outputs": [
        {
          "output_type": "execute_result",
          "data": {
            "text/plain": [
              "KFold(n_splits=2, random_state=10000, shuffle=False)"
            ]
          },
          "metadata": {},
          "execution_count": 48
        }
      ]
    },
    {
      "cell_type": "code",
      "metadata": {
        "id": "NUyya0Q18MwJ",
        "outputId": "70465ce6-6bdb-48cb-af9d-d8c46c38eb72"
      },
      "source": [
        "knn = KNeighborsClassifier(n_neighbors=3)\n",
        "scores = cross_val_score(knn, x, y, cv=kf, scoring='accuracy')\n",
        "scores"
      ],
      "execution_count": null,
      "outputs": [
        {
          "output_type": "execute_result",
          "data": {
            "text/plain": [
              "array([0.29333333, 0.33333333])"
            ]
          },
          "metadata": {},
          "execution_count": 49
        }
      ]
    },
    {
      "cell_type": "code",
      "metadata": {
        "id": "hS0quKcB8MwJ",
        "outputId": "77b1daff-39f5-40a5-e538-b51dda465706"
      },
      "source": [
        "scores.mean()"
      ],
      "execution_count": null,
      "outputs": [
        {
          "output_type": "execute_result",
          "data": {
            "text/plain": [
              "0.31333333333333335"
            ]
          },
          "metadata": {},
          "execution_count": 50
        }
      ]
    },
    {
      "cell_type": "code",
      "metadata": {
        "id": "5ikGrDR78MwJ",
        "outputId": "35c722d6-ab74-4b64-c0c9-869d43145256"
      },
      "source": [
        "k_range = range(1, 20)\n",
        "k_scores = []\n",
        "for k in k_range:\n",
        "    knn = KNeighborsClassifier(n_neighbors=k)\n",
        "    scores = cross_val_score(knn, x, y, cv=kf, scoring='accuracy')\n",
        "    k_scores.append(scores.mean())\n",
        "print(k_scores)"
      ],
      "execution_count": null,
      "outputs": [
        {
          "output_type": "stream",
          "name": "stdout",
          "text": [
            "[0.31999999999999995, 0.31999999999999995, 0.31333333333333335, 0.31333333333333335, 0.31333333333333335, 0.31333333333333335, 0.30666666666666664, 0.31999999999999995, 0.30666666666666664, 0.31333333333333335, 0.31333333333333335, 0.31333333333333335, 0.30666666666666664, 0.30666666666666664, 0.3, 0.30666666666666664, 0.30666666666666664, 0.30666666666666664, 0.3]\n"
          ]
        }
      ]
    },
    {
      "cell_type": "markdown",
      "metadata": {
        "id": "W5bE00fr8fil"
      },
      "source": [
        "Para facilitar a avaliação, vamos construir um gráfico de linhas para melhorar a visualização dos valores de acurácia (k_scores)"
      ]
    },
    {
      "cell_type": "code",
      "metadata": {
        "id": "eRsooWqE8MwJ"
      },
      "source": [
        "import matplotlib.pyplot as plt"
      ],
      "execution_count": null,
      "outputs": []
    },
    {
      "cell_type": "code",
      "metadata": {
        "id": "0fmfYUSn8MwJ",
        "outputId": "e342dd4d-e4ee-44ca-cd17-5d9a9796c88c"
      },
      "source": [
        "plt.plot(k_range, k_scores)\n",
        "plt.title(\"Comparação do parâmetro k do modelo Knn\")\n",
        "plt.xlabel('Valores de K para KNN')\n",
        "plt.ylabel('Score do Cross Validation');"
      ],
      "execution_count": null,
      "outputs": [
        {
          "output_type": "display_data",
          "data": {
            "text/plain": "<Figure size 432x288 with 1 Axes>",
            "image/svg+xml": "<?xml version=\"1.0\" encoding=\"utf-8\" standalone=\"no\"?>\r\n<!DOCTYPE svg PUBLIC \"-//W3C//DTD SVG 1.1//EN\"\r\n  \"http://www.w3.org/Graphics/SVG/1.1/DTD/svg11.dtd\">\r\n<!-- Created with matplotlib (https://matplotlib.org/) -->\r\n<svg height=\"277.794375pt\" version=\"1.1\" viewBox=\"0 0 404.86875 277.794375\" width=\"404.86875pt\" xmlns=\"http://www.w3.org/2000/svg\" xmlns:xlink=\"http://www.w3.org/1999/xlink\">\r\n <defs>\r\n  <style type=\"text/css\">\r\n*{stroke-linecap:butt;stroke-linejoin:round;}\r\n  </style>\r\n </defs>\r\n <g id=\"figure_1\">\r\n  <g id=\"patch_1\">\r\n   <path d=\"M 0 277.794375 \r\nL 404.86875 277.794375 \r\nL 404.86875 0 \r\nL 0 0 \r\nz\r\n\" style=\"fill:none;\"/>\r\n  </g>\r\n  <g id=\"axes_1\">\r\n   <g id=\"patch_2\">\r\n    <path d=\"M 62.86875 240.238125 \r\nL 397.66875 240.238125 \r\nL 397.66875 22.798125 \r\nL 62.86875 22.798125 \r\nz\r\n\" style=\"fill:#ffffff;\"/>\r\n   </g>\r\n   <g id=\"matplotlib.axis_1\">\r\n    <g id=\"xtick_1\">\r\n     <g id=\"line2d_1\">\r\n      <defs>\r\n       <path d=\"M 0 0 \r\nL 0 3.5 \r\n\" id=\"m9214b802ea\" style=\"stroke:#000000;stroke-width:0.8;\"/>\r\n      </defs>\r\n      <g>\r\n       <use style=\"stroke:#000000;stroke-width:0.8;\" x=\"103.450568\" xlink:href=\"#m9214b802ea\" y=\"240.238125\"/>\r\n      </g>\r\n     </g>\r\n     <g id=\"text_1\">\r\n      <!-- 2.5 -->\r\n      <defs>\r\n       <path d=\"M 19.1875 8.296875 \r\nL 53.609375 8.296875 \r\nL 53.609375 0 \r\nL 7.328125 0 \r\nL 7.328125 8.296875 \r\nQ 12.9375 14.109375 22.625 23.890625 \r\nQ 32.328125 33.6875 34.8125 36.53125 \r\nQ 39.546875 41.84375 41.421875 45.53125 \r\nQ 43.3125 49.21875 43.3125 52.78125 \r\nQ 43.3125 58.59375 39.234375 62.25 \r\nQ 35.15625 65.921875 28.609375 65.921875 \r\nQ 23.96875 65.921875 18.8125 64.3125 \r\nQ 13.671875 62.703125 7.8125 59.421875 \r\nL 7.8125 69.390625 \r\nQ 13.765625 71.78125 18.9375 73 \r\nQ 24.125 74.21875 28.421875 74.21875 \r\nQ 39.75 74.21875 46.484375 68.546875 \r\nQ 53.21875 62.890625 53.21875 53.421875 \r\nQ 53.21875 48.921875 51.53125 44.890625 \r\nQ 49.859375 40.875 45.40625 35.40625 \r\nQ 44.1875 33.984375 37.640625 27.21875 \r\nQ 31.109375 20.453125 19.1875 8.296875 \r\nz\r\n\" id=\"DejaVuSans-50\"/>\r\n       <path d=\"M 10.6875 12.40625 \r\nL 21 12.40625 \r\nL 21 0 \r\nL 10.6875 0 \r\nz\r\n\" id=\"DejaVuSans-46\"/>\r\n       <path d=\"M 10.796875 72.90625 \r\nL 49.515625 72.90625 \r\nL 49.515625 64.59375 \r\nL 19.828125 64.59375 \r\nL 19.828125 46.734375 \r\nQ 21.96875 47.46875 24.109375 47.828125 \r\nQ 26.265625 48.1875 28.421875 48.1875 \r\nQ 40.625 48.1875 47.75 41.5 \r\nQ 54.890625 34.8125 54.890625 23.390625 \r\nQ 54.890625 11.625 47.5625 5.09375 \r\nQ 40.234375 -1.421875 26.90625 -1.421875 \r\nQ 22.3125 -1.421875 17.546875 -0.640625 \r\nQ 12.796875 0.140625 7.71875 1.703125 \r\nL 7.71875 11.625 \r\nQ 12.109375 9.234375 16.796875 8.0625 \r\nQ 21.484375 6.890625 26.703125 6.890625 \r\nQ 35.15625 6.890625 40.078125 11.328125 \r\nQ 45.015625 15.765625 45.015625 23.390625 \r\nQ 45.015625 31 40.078125 35.4375 \r\nQ 35.15625 39.890625 26.703125 39.890625 \r\nQ 22.75 39.890625 18.8125 39.015625 \r\nQ 14.890625 38.140625 10.796875 36.28125 \r\nz\r\n\" id=\"DejaVuSans-53\"/>\r\n      </defs>\r\n      <g transform=\"translate(95.499006 254.836563)scale(0.1 -0.1)\">\r\n       <use xlink:href=\"#DejaVuSans-50\"/>\r\n       <use x=\"63.623047\" xlink:href=\"#DejaVuSans-46\"/>\r\n       <use x=\"95.410156\" xlink:href=\"#DejaVuSans-53\"/>\r\n      </g>\r\n     </g>\r\n    </g>\r\n    <g id=\"xtick_2\">\r\n     <g id=\"line2d_2\">\r\n      <g>\r\n       <use style=\"stroke:#000000;stroke-width:0.8;\" x=\"145.723295\" xlink:href=\"#m9214b802ea\" y=\"240.238125\"/>\r\n      </g>\r\n     </g>\r\n     <g id=\"text_2\">\r\n      <!-- 5.0 -->\r\n      <defs>\r\n       <path d=\"M 31.78125 66.40625 \r\nQ 24.171875 66.40625 20.328125 58.90625 \r\nQ 16.5 51.421875 16.5 36.375 \r\nQ 16.5 21.390625 20.328125 13.890625 \r\nQ 24.171875 6.390625 31.78125 6.390625 \r\nQ 39.453125 6.390625 43.28125 13.890625 \r\nQ 47.125 21.390625 47.125 36.375 \r\nQ 47.125 51.421875 43.28125 58.90625 \r\nQ 39.453125 66.40625 31.78125 66.40625 \r\nz\r\nM 31.78125 74.21875 \r\nQ 44.046875 74.21875 50.515625 64.515625 \r\nQ 56.984375 54.828125 56.984375 36.375 \r\nQ 56.984375 17.96875 50.515625 8.265625 \r\nQ 44.046875 -1.421875 31.78125 -1.421875 \r\nQ 19.53125 -1.421875 13.0625 8.265625 \r\nQ 6.59375 17.96875 6.59375 36.375 \r\nQ 6.59375 54.828125 13.0625 64.515625 \r\nQ 19.53125 74.21875 31.78125 74.21875 \r\nz\r\n\" id=\"DejaVuSans-48\"/>\r\n      </defs>\r\n      <g transform=\"translate(137.771733 254.836563)scale(0.1 -0.1)\">\r\n       <use xlink:href=\"#DejaVuSans-53\"/>\r\n       <use x=\"63.623047\" xlink:href=\"#DejaVuSans-46\"/>\r\n       <use x=\"95.410156\" xlink:href=\"#DejaVuSans-48\"/>\r\n      </g>\r\n     </g>\r\n    </g>\r\n    <g id=\"xtick_3\">\r\n     <g id=\"line2d_3\">\r\n      <g>\r\n       <use style=\"stroke:#000000;stroke-width:0.8;\" x=\"187.996023\" xlink:href=\"#m9214b802ea\" y=\"240.238125\"/>\r\n      </g>\r\n     </g>\r\n     <g id=\"text_3\">\r\n      <!-- 7.5 -->\r\n      <defs>\r\n       <path d=\"M 8.203125 72.90625 \r\nL 55.078125 72.90625 \r\nL 55.078125 68.703125 \r\nL 28.609375 0 \r\nL 18.3125 0 \r\nL 43.21875 64.59375 \r\nL 8.203125 64.59375 \r\nz\r\n\" id=\"DejaVuSans-55\"/>\r\n      </defs>\r\n      <g transform=\"translate(180.04446 254.836563)scale(0.1 -0.1)\">\r\n       <use xlink:href=\"#DejaVuSans-55\"/>\r\n       <use x=\"63.623047\" xlink:href=\"#DejaVuSans-46\"/>\r\n       <use x=\"95.410156\" xlink:href=\"#DejaVuSans-53\"/>\r\n      </g>\r\n     </g>\r\n    </g>\r\n    <g id=\"xtick_4\">\r\n     <g id=\"line2d_4\">\r\n      <g>\r\n       <use style=\"stroke:#000000;stroke-width:0.8;\" x=\"230.26875\" xlink:href=\"#m9214b802ea\" y=\"240.238125\"/>\r\n      </g>\r\n     </g>\r\n     <g id=\"text_4\">\r\n      <!-- 10.0 -->\r\n      <defs>\r\n       <path d=\"M 12.40625 8.296875 \r\nL 28.515625 8.296875 \r\nL 28.515625 63.921875 \r\nL 10.984375 60.40625 \r\nL 10.984375 69.390625 \r\nL 28.421875 72.90625 \r\nL 38.28125 72.90625 \r\nL 38.28125 8.296875 \r\nL 54.390625 8.296875 \r\nL 54.390625 0 \r\nL 12.40625 0 \r\nz\r\n\" id=\"DejaVuSans-49\"/>\r\n      </defs>\r\n      <g transform=\"translate(219.135938 254.836563)scale(0.1 -0.1)\">\r\n       <use xlink:href=\"#DejaVuSans-49\"/>\r\n       <use x=\"63.623047\" xlink:href=\"#DejaVuSans-48\"/>\r\n       <use x=\"127.246094\" xlink:href=\"#DejaVuSans-46\"/>\r\n       <use x=\"159.033203\" xlink:href=\"#DejaVuSans-48\"/>\r\n      </g>\r\n     </g>\r\n    </g>\r\n    <g id=\"xtick_5\">\r\n     <g id=\"line2d_5\">\r\n      <g>\r\n       <use style=\"stroke:#000000;stroke-width:0.8;\" x=\"272.541477\" xlink:href=\"#m9214b802ea\" y=\"240.238125\"/>\r\n      </g>\r\n     </g>\r\n     <g id=\"text_5\">\r\n      <!-- 12.5 -->\r\n      <g transform=\"translate(261.408665 254.836563)scale(0.1 -0.1)\">\r\n       <use xlink:href=\"#DejaVuSans-49\"/>\r\n       <use x=\"63.623047\" xlink:href=\"#DejaVuSans-50\"/>\r\n       <use x=\"127.246094\" xlink:href=\"#DejaVuSans-46\"/>\r\n       <use x=\"159.033203\" xlink:href=\"#DejaVuSans-53\"/>\r\n      </g>\r\n     </g>\r\n    </g>\r\n    <g id=\"xtick_6\">\r\n     <g id=\"line2d_6\">\r\n      <g>\r\n       <use style=\"stroke:#000000;stroke-width:0.8;\" x=\"314.814205\" xlink:href=\"#m9214b802ea\" y=\"240.238125\"/>\r\n      </g>\r\n     </g>\r\n     <g id=\"text_6\">\r\n      <!-- 15.0 -->\r\n      <g transform=\"translate(303.681392 254.836563)scale(0.1 -0.1)\">\r\n       <use xlink:href=\"#DejaVuSans-49\"/>\r\n       <use x=\"63.623047\" xlink:href=\"#DejaVuSans-53\"/>\r\n       <use x=\"127.246094\" xlink:href=\"#DejaVuSans-46\"/>\r\n       <use x=\"159.033203\" xlink:href=\"#DejaVuSans-48\"/>\r\n      </g>\r\n     </g>\r\n    </g>\r\n    <g id=\"xtick_7\">\r\n     <g id=\"line2d_7\">\r\n      <g>\r\n       <use style=\"stroke:#000000;stroke-width:0.8;\" x=\"357.086932\" xlink:href=\"#m9214b802ea\" y=\"240.238125\"/>\r\n      </g>\r\n     </g>\r\n     <g id=\"text_7\">\r\n      <!-- 17.5 -->\r\n      <g transform=\"translate(345.954119 254.836563)scale(0.1 -0.1)\">\r\n       <use xlink:href=\"#DejaVuSans-49\"/>\r\n       <use x=\"63.623047\" xlink:href=\"#DejaVuSans-55\"/>\r\n       <use x=\"127.246094\" xlink:href=\"#DejaVuSans-46\"/>\r\n       <use x=\"159.033203\" xlink:href=\"#DejaVuSans-53\"/>\r\n      </g>\r\n     </g>\r\n    </g>\r\n    <g id=\"text_8\">\r\n     <!-- Valores de K para KNN -->\r\n     <defs>\r\n      <path d=\"M 28.609375 0 \r\nL 0.78125 72.90625 \r\nL 11.078125 72.90625 \r\nL 34.1875 11.53125 \r\nL 57.328125 72.90625 \r\nL 67.578125 72.90625 \r\nL 39.796875 0 \r\nz\r\n\" id=\"DejaVuSans-86\"/>\r\n      <path d=\"M 34.28125 27.484375 \r\nQ 23.390625 27.484375 19.1875 25 \r\nQ 14.984375 22.515625 14.984375 16.5 \r\nQ 14.984375 11.71875 18.140625 8.90625 \r\nQ 21.296875 6.109375 26.703125 6.109375 \r\nQ 34.1875 6.109375 38.703125 11.40625 \r\nQ 43.21875 16.703125 43.21875 25.484375 \r\nL 43.21875 27.484375 \r\nz\r\nM 52.203125 31.203125 \r\nL 52.203125 0 \r\nL 43.21875 0 \r\nL 43.21875 8.296875 \r\nQ 40.140625 3.328125 35.546875 0.953125 \r\nQ 30.953125 -1.421875 24.3125 -1.421875 \r\nQ 15.921875 -1.421875 10.953125 3.296875 \r\nQ 6 8.015625 6 15.921875 \r\nQ 6 25.140625 12.171875 29.828125 \r\nQ 18.359375 34.515625 30.609375 34.515625 \r\nL 43.21875 34.515625 \r\nL 43.21875 35.40625 \r\nQ 43.21875 41.609375 39.140625 45 \r\nQ 35.0625 48.390625 27.6875 48.390625 \r\nQ 23 48.390625 18.546875 47.265625 \r\nQ 14.109375 46.140625 10.015625 43.890625 \r\nL 10.015625 52.203125 \r\nQ 14.9375 54.109375 19.578125 55.046875 \r\nQ 24.21875 56 28.609375 56 \r\nQ 40.484375 56 46.34375 49.84375 \r\nQ 52.203125 43.703125 52.203125 31.203125 \r\nz\r\n\" id=\"DejaVuSans-97\"/>\r\n      <path d=\"M 9.421875 75.984375 \r\nL 18.40625 75.984375 \r\nL 18.40625 0 \r\nL 9.421875 0 \r\nz\r\n\" id=\"DejaVuSans-108\"/>\r\n      <path d=\"M 30.609375 48.390625 \r\nQ 23.390625 48.390625 19.1875 42.75 \r\nQ 14.984375 37.109375 14.984375 27.296875 \r\nQ 14.984375 17.484375 19.15625 11.84375 \r\nQ 23.34375 6.203125 30.609375 6.203125 \r\nQ 37.796875 6.203125 41.984375 11.859375 \r\nQ 46.1875 17.53125 46.1875 27.296875 \r\nQ 46.1875 37.015625 41.984375 42.703125 \r\nQ 37.796875 48.390625 30.609375 48.390625 \r\nz\r\nM 30.609375 56 \r\nQ 42.328125 56 49.015625 48.375 \r\nQ 55.71875 40.765625 55.71875 27.296875 \r\nQ 55.71875 13.875 49.015625 6.21875 \r\nQ 42.328125 -1.421875 30.609375 -1.421875 \r\nQ 18.84375 -1.421875 12.171875 6.21875 \r\nQ 5.515625 13.875 5.515625 27.296875 \r\nQ 5.515625 40.765625 12.171875 48.375 \r\nQ 18.84375 56 30.609375 56 \r\nz\r\n\" id=\"DejaVuSans-111\"/>\r\n      <path d=\"M 41.109375 46.296875 \r\nQ 39.59375 47.171875 37.8125 47.578125 \r\nQ 36.03125 48 33.890625 48 \r\nQ 26.265625 48 22.1875 43.046875 \r\nQ 18.109375 38.09375 18.109375 28.8125 \r\nL 18.109375 0 \r\nL 9.078125 0 \r\nL 9.078125 54.6875 \r\nL 18.109375 54.6875 \r\nL 18.109375 46.1875 \r\nQ 20.953125 51.171875 25.484375 53.578125 \r\nQ 30.03125 56 36.53125 56 \r\nQ 37.453125 56 38.578125 55.875 \r\nQ 39.703125 55.765625 41.0625 55.515625 \r\nz\r\n\" id=\"DejaVuSans-114\"/>\r\n      <path d=\"M 56.203125 29.59375 \r\nL 56.203125 25.203125 \r\nL 14.890625 25.203125 \r\nQ 15.484375 15.921875 20.484375 11.0625 \r\nQ 25.484375 6.203125 34.421875 6.203125 \r\nQ 39.59375 6.203125 44.453125 7.46875 \r\nQ 49.3125 8.734375 54.109375 11.28125 \r\nL 54.109375 2.78125 \r\nQ 49.265625 0.734375 44.1875 -0.34375 \r\nQ 39.109375 -1.421875 33.890625 -1.421875 \r\nQ 20.796875 -1.421875 13.15625 6.1875 \r\nQ 5.515625 13.8125 5.515625 26.8125 \r\nQ 5.515625 40.234375 12.765625 48.109375 \r\nQ 20.015625 56 32.328125 56 \r\nQ 43.359375 56 49.78125 48.890625 \r\nQ 56.203125 41.796875 56.203125 29.59375 \r\nz\r\nM 47.21875 32.234375 \r\nQ 47.125 39.59375 43.09375 43.984375 \r\nQ 39.0625 48.390625 32.421875 48.390625 \r\nQ 24.90625 48.390625 20.390625 44.140625 \r\nQ 15.875 39.890625 15.1875 32.171875 \r\nz\r\n\" id=\"DejaVuSans-101\"/>\r\n      <path d=\"M 44.28125 53.078125 \r\nL 44.28125 44.578125 \r\nQ 40.484375 46.53125 36.375 47.5 \r\nQ 32.28125 48.484375 27.875 48.484375 \r\nQ 21.1875 48.484375 17.84375 46.4375 \r\nQ 14.5 44.390625 14.5 40.28125 \r\nQ 14.5 37.15625 16.890625 35.375 \r\nQ 19.28125 33.59375 26.515625 31.984375 \r\nL 29.59375 31.296875 \r\nQ 39.15625 29.25 43.1875 25.515625 \r\nQ 47.21875 21.78125 47.21875 15.09375 \r\nQ 47.21875 7.46875 41.1875 3.015625 \r\nQ 35.15625 -1.421875 24.609375 -1.421875 \r\nQ 20.21875 -1.421875 15.453125 -0.5625 \r\nQ 10.6875 0.296875 5.421875 2 \r\nL 5.421875 11.28125 \r\nQ 10.40625 8.6875 15.234375 7.390625 \r\nQ 20.0625 6.109375 24.8125 6.109375 \r\nQ 31.15625 6.109375 34.5625 8.28125 \r\nQ 37.984375 10.453125 37.984375 14.40625 \r\nQ 37.984375 18.0625 35.515625 20.015625 \r\nQ 33.0625 21.96875 24.703125 23.78125 \r\nL 21.578125 24.515625 \r\nQ 13.234375 26.265625 9.515625 29.90625 \r\nQ 5.8125 33.546875 5.8125 39.890625 \r\nQ 5.8125 47.609375 11.28125 51.796875 \r\nQ 16.75 56 26.8125 56 \r\nQ 31.78125 56 36.171875 55.265625 \r\nQ 40.578125 54.546875 44.28125 53.078125 \r\nz\r\n\" id=\"DejaVuSans-115\"/>\r\n      <path id=\"DejaVuSans-32\"/>\r\n      <path d=\"M 45.40625 46.390625 \r\nL 45.40625 75.984375 \r\nL 54.390625 75.984375 \r\nL 54.390625 0 \r\nL 45.40625 0 \r\nL 45.40625 8.203125 \r\nQ 42.578125 3.328125 38.25 0.953125 \r\nQ 33.9375 -1.421875 27.875 -1.421875 \r\nQ 17.96875 -1.421875 11.734375 6.484375 \r\nQ 5.515625 14.40625 5.515625 27.296875 \r\nQ 5.515625 40.1875 11.734375 48.09375 \r\nQ 17.96875 56 27.875 56 \r\nQ 33.9375 56 38.25 53.625 \r\nQ 42.578125 51.265625 45.40625 46.390625 \r\nz\r\nM 14.796875 27.296875 \r\nQ 14.796875 17.390625 18.875 11.75 \r\nQ 22.953125 6.109375 30.078125 6.109375 \r\nQ 37.203125 6.109375 41.296875 11.75 \r\nQ 45.40625 17.390625 45.40625 27.296875 \r\nQ 45.40625 37.203125 41.296875 42.84375 \r\nQ 37.203125 48.484375 30.078125 48.484375 \r\nQ 22.953125 48.484375 18.875 42.84375 \r\nQ 14.796875 37.203125 14.796875 27.296875 \r\nz\r\n\" id=\"DejaVuSans-100\"/>\r\n      <path d=\"M 9.8125 72.90625 \r\nL 19.671875 72.90625 \r\nL 19.671875 42.09375 \r\nL 52.390625 72.90625 \r\nL 65.09375 72.90625 \r\nL 28.90625 38.921875 \r\nL 67.671875 0 \r\nL 54.6875 0 \r\nL 19.671875 35.109375 \r\nL 19.671875 0 \r\nL 9.8125 0 \r\nz\r\n\" id=\"DejaVuSans-75\"/>\r\n      <path d=\"M 18.109375 8.203125 \r\nL 18.109375 -20.796875 \r\nL 9.078125 -20.796875 \r\nL 9.078125 54.6875 \r\nL 18.109375 54.6875 \r\nL 18.109375 46.390625 \r\nQ 20.953125 51.265625 25.265625 53.625 \r\nQ 29.59375 56 35.59375 56 \r\nQ 45.5625 56 51.78125 48.09375 \r\nQ 58.015625 40.1875 58.015625 27.296875 \r\nQ 58.015625 14.40625 51.78125 6.484375 \r\nQ 45.5625 -1.421875 35.59375 -1.421875 \r\nQ 29.59375 -1.421875 25.265625 0.953125 \r\nQ 20.953125 3.328125 18.109375 8.203125 \r\nz\r\nM 48.6875 27.296875 \r\nQ 48.6875 37.203125 44.609375 42.84375 \r\nQ 40.53125 48.484375 33.40625 48.484375 \r\nQ 26.265625 48.484375 22.1875 42.84375 \r\nQ 18.109375 37.203125 18.109375 27.296875 \r\nQ 18.109375 17.390625 22.1875 11.75 \r\nQ 26.265625 6.109375 33.40625 6.109375 \r\nQ 40.53125 6.109375 44.609375 11.75 \r\nQ 48.6875 17.390625 48.6875 27.296875 \r\nz\r\n\" id=\"DejaVuSans-112\"/>\r\n      <path d=\"M 9.8125 72.90625 \r\nL 23.09375 72.90625 \r\nL 55.421875 11.921875 \r\nL 55.421875 72.90625 \r\nL 64.984375 72.90625 \r\nL 64.984375 0 \r\nL 51.703125 0 \r\nL 19.390625 60.984375 \r\nL 19.390625 0 \r\nL 9.8125 0 \r\nz\r\n\" id=\"DejaVuSans-78\"/>\r\n     </defs>\r\n     <g transform=\"translate(174.095313 268.514687)scale(0.1 -0.1)\">\r\n      <use xlink:href=\"#DejaVuSans-86\"/>\r\n      <use x=\"60.658203\" xlink:href=\"#DejaVuSans-97\"/>\r\n      <use x=\"121.9375\" xlink:href=\"#DejaVuSans-108\"/>\r\n      <use x=\"149.720703\" xlink:href=\"#DejaVuSans-111\"/>\r\n      <use x=\"210.902344\" xlink:href=\"#DejaVuSans-114\"/>\r\n      <use x=\"249.765625\" xlink:href=\"#DejaVuSans-101\"/>\r\n      <use x=\"311.289062\" xlink:href=\"#DejaVuSans-115\"/>\r\n      <use x=\"363.388672\" xlink:href=\"#DejaVuSans-32\"/>\r\n      <use x=\"395.175781\" xlink:href=\"#DejaVuSans-100\"/>\r\n      <use x=\"458.652344\" xlink:href=\"#DejaVuSans-101\"/>\r\n      <use x=\"520.175781\" xlink:href=\"#DejaVuSans-32\"/>\r\n      <use x=\"551.962891\" xlink:href=\"#DejaVuSans-75\"/>\r\n      <use x=\"617.539062\" xlink:href=\"#DejaVuSans-32\"/>\r\n      <use x=\"649.326172\" xlink:href=\"#DejaVuSans-112\"/>\r\n      <use x=\"712.802734\" xlink:href=\"#DejaVuSans-97\"/>\r\n      <use x=\"774.082031\" xlink:href=\"#DejaVuSans-114\"/>\r\n      <use x=\"815.195312\" xlink:href=\"#DejaVuSans-97\"/>\r\n      <use x=\"876.474609\" xlink:href=\"#DejaVuSans-32\"/>\r\n      <use x=\"908.261719\" xlink:href=\"#DejaVuSans-75\"/>\r\n      <use x=\"973.837891\" xlink:href=\"#DejaVuSans-78\"/>\r\n      <use x=\"1048.642578\" xlink:href=\"#DejaVuSans-78\"/>\r\n     </g>\r\n    </g>\r\n   </g>\r\n   <g id=\"matplotlib.axis_2\">\r\n    <g id=\"ytick_1\">\r\n     <g id=\"line2d_8\">\r\n      <defs>\r\n       <path d=\"M 0 0 \r\nL -3.5 0 \r\n\" id=\"md0984a8bd6\" style=\"stroke:#000000;stroke-width:0.8;\"/>\r\n      </defs>\r\n      <g>\r\n       <use style=\"stroke:#000000;stroke-width:0.8;\" x=\"62.86875\" xlink:href=\"#md0984a8bd6\" y=\"230.354489\"/>\r\n      </g>\r\n     </g>\r\n     <g id=\"text_9\">\r\n      <!-- 0.3000 -->\r\n      <defs>\r\n       <path d=\"M 40.578125 39.3125 \r\nQ 47.65625 37.796875 51.625 33 \r\nQ 55.609375 28.21875 55.609375 21.1875 \r\nQ 55.609375 10.40625 48.1875 4.484375 \r\nQ 40.765625 -1.421875 27.09375 -1.421875 \r\nQ 22.515625 -1.421875 17.65625 -0.515625 \r\nQ 12.796875 0.390625 7.625 2.203125 \r\nL 7.625 11.71875 \r\nQ 11.71875 9.328125 16.59375 8.109375 \r\nQ 21.484375 6.890625 26.8125 6.890625 \r\nQ 36.078125 6.890625 40.9375 10.546875 \r\nQ 45.796875 14.203125 45.796875 21.1875 \r\nQ 45.796875 27.640625 41.28125 31.265625 \r\nQ 36.765625 34.90625 28.71875 34.90625 \r\nL 20.21875 34.90625 \r\nL 20.21875 43.015625 \r\nL 29.109375 43.015625 \r\nQ 36.375 43.015625 40.234375 45.921875 \r\nQ 44.09375 48.828125 44.09375 54.296875 \r\nQ 44.09375 59.90625 40.109375 62.90625 \r\nQ 36.140625 65.921875 28.71875 65.921875 \r\nQ 24.65625 65.921875 20.015625 65.03125 \r\nQ 15.375 64.15625 9.8125 62.3125 \r\nL 9.8125 71.09375 \r\nQ 15.4375 72.65625 20.34375 73.4375 \r\nQ 25.25 74.21875 29.59375 74.21875 \r\nQ 40.828125 74.21875 47.359375 69.109375 \r\nQ 53.90625 64.015625 53.90625 55.328125 \r\nQ 53.90625 49.265625 50.4375 45.09375 \r\nQ 46.96875 40.921875 40.578125 39.3125 \r\nz\r\n\" id=\"DejaVuSans-51\"/>\r\n      </defs>\r\n      <g transform=\"translate(20.878125 234.153707)scale(0.1 -0.1)\">\r\n       <use xlink:href=\"#DejaVuSans-48\"/>\r\n       <use x=\"63.623047\" xlink:href=\"#DejaVuSans-46\"/>\r\n       <use x=\"95.410156\" xlink:href=\"#DejaVuSans-51\"/>\r\n       <use x=\"159.033203\" xlink:href=\"#DejaVuSans-48\"/>\r\n       <use x=\"222.65625\" xlink:href=\"#DejaVuSans-48\"/>\r\n       <use x=\"286.279297\" xlink:href=\"#DejaVuSans-48\"/>\r\n      </g>\r\n     </g>\r\n    </g>\r\n    <g id=\"ytick_2\">\r\n     <g id=\"line2d_9\">\r\n      <g>\r\n       <use style=\"stroke:#000000;stroke-width:0.8;\" x=\"62.86875\" xlink:href=\"#md0984a8bd6\" y=\"205.645398\"/>\r\n      </g>\r\n     </g>\r\n     <g id=\"text_10\">\r\n      <!-- 0.3025 -->\r\n      <g transform=\"translate(20.878125 209.444616)scale(0.1 -0.1)\">\r\n       <use xlink:href=\"#DejaVuSans-48\"/>\r\n       <use x=\"63.623047\" xlink:href=\"#DejaVuSans-46\"/>\r\n       <use x=\"95.410156\" xlink:href=\"#DejaVuSans-51\"/>\r\n       <use x=\"159.033203\" xlink:href=\"#DejaVuSans-48\"/>\r\n       <use x=\"222.65625\" xlink:href=\"#DejaVuSans-50\"/>\r\n       <use x=\"286.279297\" xlink:href=\"#DejaVuSans-53\"/>\r\n      </g>\r\n     </g>\r\n    </g>\r\n    <g id=\"ytick_3\">\r\n     <g id=\"line2d_10\">\r\n      <g>\r\n       <use style=\"stroke:#000000;stroke-width:0.8;\" x=\"62.86875\" xlink:href=\"#md0984a8bd6\" y=\"180.936307\"/>\r\n      </g>\r\n     </g>\r\n     <g id=\"text_11\">\r\n      <!-- 0.3050 -->\r\n      <g transform=\"translate(20.878125 184.735526)scale(0.1 -0.1)\">\r\n       <use xlink:href=\"#DejaVuSans-48\"/>\r\n       <use x=\"63.623047\" xlink:href=\"#DejaVuSans-46\"/>\r\n       <use x=\"95.410156\" xlink:href=\"#DejaVuSans-51\"/>\r\n       <use x=\"159.033203\" xlink:href=\"#DejaVuSans-48\"/>\r\n       <use x=\"222.65625\" xlink:href=\"#DejaVuSans-53\"/>\r\n       <use x=\"286.279297\" xlink:href=\"#DejaVuSans-48\"/>\r\n      </g>\r\n     </g>\r\n    </g>\r\n    <g id=\"ytick_4\">\r\n     <g id=\"line2d_11\">\r\n      <g>\r\n       <use style=\"stroke:#000000;stroke-width:0.8;\" x=\"62.86875\" xlink:href=\"#md0984a8bd6\" y=\"156.227216\"/>\r\n      </g>\r\n     </g>\r\n     <g id=\"text_12\">\r\n      <!-- 0.3075 -->\r\n      <g transform=\"translate(20.878125 160.026435)scale(0.1 -0.1)\">\r\n       <use xlink:href=\"#DejaVuSans-48\"/>\r\n       <use x=\"63.623047\" xlink:href=\"#DejaVuSans-46\"/>\r\n       <use x=\"95.410156\" xlink:href=\"#DejaVuSans-51\"/>\r\n       <use x=\"159.033203\" xlink:href=\"#DejaVuSans-48\"/>\r\n       <use x=\"222.65625\" xlink:href=\"#DejaVuSans-55\"/>\r\n       <use x=\"286.279297\" xlink:href=\"#DejaVuSans-53\"/>\r\n      </g>\r\n     </g>\r\n    </g>\r\n    <g id=\"ytick_5\">\r\n     <g id=\"line2d_12\">\r\n      <g>\r\n       <use style=\"stroke:#000000;stroke-width:0.8;\" x=\"62.86875\" xlink:href=\"#md0984a8bd6\" y=\"131.518125\"/>\r\n      </g>\r\n     </g>\r\n     <g id=\"text_13\">\r\n      <!-- 0.3100 -->\r\n      <g transform=\"translate(20.878125 135.317344)scale(0.1 -0.1)\">\r\n       <use xlink:href=\"#DejaVuSans-48\"/>\r\n       <use x=\"63.623047\" xlink:href=\"#DejaVuSans-46\"/>\r\n       <use x=\"95.410156\" xlink:href=\"#DejaVuSans-51\"/>\r\n       <use x=\"159.033203\" xlink:href=\"#DejaVuSans-49\"/>\r\n       <use x=\"222.65625\" xlink:href=\"#DejaVuSans-48\"/>\r\n       <use x=\"286.279297\" xlink:href=\"#DejaVuSans-48\"/>\r\n      </g>\r\n     </g>\r\n    </g>\r\n    <g id=\"ytick_6\">\r\n     <g id=\"line2d_13\">\r\n      <g>\r\n       <use style=\"stroke:#000000;stroke-width:0.8;\" x=\"62.86875\" xlink:href=\"#md0984a8bd6\" y=\"106.809034\"/>\r\n      </g>\r\n     </g>\r\n     <g id=\"text_14\">\r\n      <!-- 0.3125 -->\r\n      <g transform=\"translate(20.878125 110.608253)scale(0.1 -0.1)\">\r\n       <use xlink:href=\"#DejaVuSans-48\"/>\r\n       <use x=\"63.623047\" xlink:href=\"#DejaVuSans-46\"/>\r\n       <use x=\"95.410156\" xlink:href=\"#DejaVuSans-51\"/>\r\n       <use x=\"159.033203\" xlink:href=\"#DejaVuSans-49\"/>\r\n       <use x=\"222.65625\" xlink:href=\"#DejaVuSans-50\"/>\r\n       <use x=\"286.279297\" xlink:href=\"#DejaVuSans-53\"/>\r\n      </g>\r\n     </g>\r\n    </g>\r\n    <g id=\"ytick_7\">\r\n     <g id=\"line2d_14\">\r\n      <g>\r\n       <use style=\"stroke:#000000;stroke-width:0.8;\" x=\"62.86875\" xlink:href=\"#md0984a8bd6\" y=\"82.099943\"/>\r\n      </g>\r\n     </g>\r\n     <g id=\"text_15\">\r\n      <!-- 0.3150 -->\r\n      <g transform=\"translate(20.878125 85.899162)scale(0.1 -0.1)\">\r\n       <use xlink:href=\"#DejaVuSans-48\"/>\r\n       <use x=\"63.623047\" xlink:href=\"#DejaVuSans-46\"/>\r\n       <use x=\"95.410156\" xlink:href=\"#DejaVuSans-51\"/>\r\n       <use x=\"159.033203\" xlink:href=\"#DejaVuSans-49\"/>\r\n       <use x=\"222.65625\" xlink:href=\"#DejaVuSans-53\"/>\r\n       <use x=\"286.279297\" xlink:href=\"#DejaVuSans-48\"/>\r\n      </g>\r\n     </g>\r\n    </g>\r\n    <g id=\"ytick_8\">\r\n     <g id=\"line2d_15\">\r\n      <g>\r\n       <use style=\"stroke:#000000;stroke-width:0.8;\" x=\"62.86875\" xlink:href=\"#md0984a8bd6\" y=\"57.390852\"/>\r\n      </g>\r\n     </g>\r\n     <g id=\"text_16\">\r\n      <!-- 0.3175 -->\r\n      <g transform=\"translate(20.878125 61.190071)scale(0.1 -0.1)\">\r\n       <use xlink:href=\"#DejaVuSans-48\"/>\r\n       <use x=\"63.623047\" xlink:href=\"#DejaVuSans-46\"/>\r\n       <use x=\"95.410156\" xlink:href=\"#DejaVuSans-51\"/>\r\n       <use x=\"159.033203\" xlink:href=\"#DejaVuSans-49\"/>\r\n       <use x=\"222.65625\" xlink:href=\"#DejaVuSans-55\"/>\r\n       <use x=\"286.279297\" xlink:href=\"#DejaVuSans-53\"/>\r\n      </g>\r\n     </g>\r\n    </g>\r\n    <g id=\"ytick_9\">\r\n     <g id=\"line2d_16\">\r\n      <g>\r\n       <use style=\"stroke:#000000;stroke-width:0.8;\" x=\"62.86875\" xlink:href=\"#md0984a8bd6\" y=\"32.681761\"/>\r\n      </g>\r\n     </g>\r\n     <g id=\"text_17\">\r\n      <!-- 0.3200 -->\r\n      <g transform=\"translate(20.878125 36.48098)scale(0.1 -0.1)\">\r\n       <use xlink:href=\"#DejaVuSans-48\"/>\r\n       <use x=\"63.623047\" xlink:href=\"#DejaVuSans-46\"/>\r\n       <use x=\"95.410156\" xlink:href=\"#DejaVuSans-51\"/>\r\n       <use x=\"159.033203\" xlink:href=\"#DejaVuSans-50\"/>\r\n       <use x=\"222.65625\" xlink:href=\"#DejaVuSans-48\"/>\r\n       <use x=\"286.279297\" xlink:href=\"#DejaVuSans-48\"/>\r\n      </g>\r\n     </g>\r\n    </g>\r\n    <g id=\"text_18\">\r\n     <!-- Score do Cross Validation -->\r\n     <defs>\r\n      <path d=\"M 53.515625 70.515625 \r\nL 53.515625 60.890625 \r\nQ 47.90625 63.578125 42.921875 64.890625 \r\nQ 37.9375 66.21875 33.296875 66.21875 \r\nQ 25.25 66.21875 20.875 63.09375 \r\nQ 16.5 59.96875 16.5 54.203125 \r\nQ 16.5 49.359375 19.40625 46.890625 \r\nQ 22.3125 44.4375 30.421875 42.921875 \r\nL 36.375 41.703125 \r\nQ 47.40625 39.59375 52.65625 34.296875 \r\nQ 57.90625 29 57.90625 20.125 \r\nQ 57.90625 9.515625 50.796875 4.046875 \r\nQ 43.703125 -1.421875 29.984375 -1.421875 \r\nQ 24.8125 -1.421875 18.96875 -0.25 \r\nQ 13.140625 0.921875 6.890625 3.21875 \r\nL 6.890625 13.375 \r\nQ 12.890625 10.015625 18.65625 8.296875 \r\nQ 24.421875 6.59375 29.984375 6.59375 \r\nQ 38.421875 6.59375 43.015625 9.90625 \r\nQ 47.609375 13.234375 47.609375 19.390625 \r\nQ 47.609375 24.75 44.3125 27.78125 \r\nQ 41.015625 30.8125 33.5 32.328125 \r\nL 27.484375 33.5 \r\nQ 16.453125 35.6875 11.515625 40.375 \r\nQ 6.59375 45.0625 6.59375 53.421875 \r\nQ 6.59375 63.09375 13.40625 68.65625 \r\nQ 20.21875 74.21875 32.171875 74.21875 \r\nQ 37.3125 74.21875 42.625 73.28125 \r\nQ 47.953125 72.359375 53.515625 70.515625 \r\nz\r\n\" id=\"DejaVuSans-83\"/>\r\n      <path d=\"M 48.78125 52.59375 \r\nL 48.78125 44.1875 \r\nQ 44.96875 46.296875 41.140625 47.34375 \r\nQ 37.3125 48.390625 33.40625 48.390625 \r\nQ 24.65625 48.390625 19.8125 42.84375 \r\nQ 14.984375 37.3125 14.984375 27.296875 \r\nQ 14.984375 17.28125 19.8125 11.734375 \r\nQ 24.65625 6.203125 33.40625 6.203125 \r\nQ 37.3125 6.203125 41.140625 7.25 \r\nQ 44.96875 8.296875 48.78125 10.40625 \r\nL 48.78125 2.09375 \r\nQ 45.015625 0.34375 40.984375 -0.53125 \r\nQ 36.96875 -1.421875 32.421875 -1.421875 \r\nQ 20.0625 -1.421875 12.78125 6.34375 \r\nQ 5.515625 14.109375 5.515625 27.296875 \r\nQ 5.515625 40.671875 12.859375 48.328125 \r\nQ 20.21875 56 33.015625 56 \r\nQ 37.15625 56 41.109375 55.140625 \r\nQ 45.0625 54.296875 48.78125 52.59375 \r\nz\r\n\" id=\"DejaVuSans-99\"/>\r\n      <path d=\"M 64.40625 67.28125 \r\nL 64.40625 56.890625 \r\nQ 59.421875 61.53125 53.78125 63.8125 \r\nQ 48.140625 66.109375 41.796875 66.109375 \r\nQ 29.296875 66.109375 22.65625 58.46875 \r\nQ 16.015625 50.828125 16.015625 36.375 \r\nQ 16.015625 21.96875 22.65625 14.328125 \r\nQ 29.296875 6.6875 41.796875 6.6875 \r\nQ 48.140625 6.6875 53.78125 8.984375 \r\nQ 59.421875 11.28125 64.40625 15.921875 \r\nL 64.40625 5.609375 \r\nQ 59.234375 2.09375 53.4375 0.328125 \r\nQ 47.65625 -1.421875 41.21875 -1.421875 \r\nQ 24.65625 -1.421875 15.125 8.703125 \r\nQ 5.609375 18.84375 5.609375 36.375 \r\nQ 5.609375 53.953125 15.125 64.078125 \r\nQ 24.65625 74.21875 41.21875 74.21875 \r\nQ 47.75 74.21875 53.53125 72.484375 \r\nQ 59.328125 70.75 64.40625 67.28125 \r\nz\r\n\" id=\"DejaVuSans-67\"/>\r\n      <path d=\"M 9.421875 54.6875 \r\nL 18.40625 54.6875 \r\nL 18.40625 0 \r\nL 9.421875 0 \r\nz\r\nM 9.421875 75.984375 \r\nL 18.40625 75.984375 \r\nL 18.40625 64.59375 \r\nL 9.421875 64.59375 \r\nz\r\n\" id=\"DejaVuSans-105\"/>\r\n      <path d=\"M 18.3125 70.21875 \r\nL 18.3125 54.6875 \r\nL 36.8125 54.6875 \r\nL 36.8125 47.703125 \r\nL 18.3125 47.703125 \r\nL 18.3125 18.015625 \r\nQ 18.3125 11.328125 20.140625 9.421875 \r\nQ 21.96875 7.515625 27.59375 7.515625 \r\nL 36.8125 7.515625 \r\nL 36.8125 0 \r\nL 27.59375 0 \r\nQ 17.1875 0 13.234375 3.875 \r\nQ 9.28125 7.765625 9.28125 18.015625 \r\nL 9.28125 47.703125 \r\nL 2.6875 47.703125 \r\nL 2.6875 54.6875 \r\nL 9.28125 54.6875 \r\nL 9.28125 70.21875 \r\nz\r\n\" id=\"DejaVuSans-116\"/>\r\n      <path d=\"M 54.890625 33.015625 \r\nL 54.890625 0 \r\nL 45.90625 0 \r\nL 45.90625 32.71875 \r\nQ 45.90625 40.484375 42.875 44.328125 \r\nQ 39.84375 48.1875 33.796875 48.1875 \r\nQ 26.515625 48.1875 22.3125 43.546875 \r\nQ 18.109375 38.921875 18.109375 30.90625 \r\nL 18.109375 0 \r\nL 9.078125 0 \r\nL 9.078125 54.6875 \r\nL 18.109375 54.6875 \r\nL 18.109375 46.1875 \r\nQ 21.34375 51.125 25.703125 53.5625 \r\nQ 30.078125 56 35.796875 56 \r\nQ 45.21875 56 50.046875 50.171875 \r\nQ 54.890625 44.34375 54.890625 33.015625 \r\nz\r\n\" id=\"DejaVuSans-110\"/>\r\n     </defs>\r\n     <g transform=\"translate(14.798438 194.915)rotate(-90)scale(0.1 -0.1)\">\r\n      <use xlink:href=\"#DejaVuSans-83\"/>\r\n      <use x=\"63.476562\" xlink:href=\"#DejaVuSans-99\"/>\r\n      <use x=\"118.457031\" xlink:href=\"#DejaVuSans-111\"/>\r\n      <use x=\"179.638672\" xlink:href=\"#DejaVuSans-114\"/>\r\n      <use x=\"218.501953\" xlink:href=\"#DejaVuSans-101\"/>\r\n      <use x=\"280.025391\" xlink:href=\"#DejaVuSans-32\"/>\r\n      <use x=\"311.8125\" xlink:href=\"#DejaVuSans-100\"/>\r\n      <use x=\"375.289062\" xlink:href=\"#DejaVuSans-111\"/>\r\n      <use x=\"436.470703\" xlink:href=\"#DejaVuSans-32\"/>\r\n      <use x=\"468.257812\" xlink:href=\"#DejaVuSans-67\"/>\r\n      <use x=\"538.082031\" xlink:href=\"#DejaVuSans-114\"/>\r\n      <use x=\"576.945312\" xlink:href=\"#DejaVuSans-111\"/>\r\n      <use x=\"638.126953\" xlink:href=\"#DejaVuSans-115\"/>\r\n      <use x=\"690.226562\" xlink:href=\"#DejaVuSans-115\"/>\r\n      <use x=\"742.326172\" xlink:href=\"#DejaVuSans-32\"/>\r\n      <use x=\"774.113281\" xlink:href=\"#DejaVuSans-86\"/>\r\n      <use x=\"834.771484\" xlink:href=\"#DejaVuSans-97\"/>\r\n      <use x=\"896.050781\" xlink:href=\"#DejaVuSans-108\"/>\r\n      <use x=\"923.833984\" xlink:href=\"#DejaVuSans-105\"/>\r\n      <use x=\"951.617188\" xlink:href=\"#DejaVuSans-100\"/>\r\n      <use x=\"1015.09375\" xlink:href=\"#DejaVuSans-97\"/>\r\n      <use x=\"1076.373047\" xlink:href=\"#DejaVuSans-116\"/>\r\n      <use x=\"1115.582031\" xlink:href=\"#DejaVuSans-105\"/>\r\n      <use x=\"1143.365234\" xlink:href=\"#DejaVuSans-111\"/>\r\n      <use x=\"1204.546875\" xlink:href=\"#DejaVuSans-110\"/>\r\n     </g>\r\n    </g>\r\n   </g>\r\n   <g id=\"line2d_17\">\r\n    <path clip-path=\"url(#p8c9f3b41cc)\" d=\"M 78.086932 32.681761 \r\nL 94.996023 32.681761 \r\nL 111.905114 98.57267 \r\nL 128.814205 98.57267 \r\nL 145.723295 98.57267 \r\nL 162.632386 98.57267 \r\nL 179.541477 164.46358 \r\nL 196.450568 32.681761 \r\nL 213.359659 164.46358 \r\nL 230.26875 98.57267 \r\nL 247.177841 98.57267 \r\nL 264.086932 98.57267 \r\nL 280.996023 164.46358 \r\nL 297.905114 164.46358 \r\nL 314.814205 230.354489 \r\nL 331.723295 164.46358 \r\nL 348.632386 164.46358 \r\nL 365.541477 164.46358 \r\nL 382.450568 230.354489 \r\n\" style=\"fill:none;stroke:#1f77b4;stroke-linecap:square;stroke-width:1.5;\"/>\r\n   </g>\r\n   <g id=\"patch_3\">\r\n    <path d=\"M 62.86875 240.238125 \r\nL 62.86875 22.798125 \r\n\" style=\"fill:none;stroke:#000000;stroke-linecap:square;stroke-linejoin:miter;stroke-width:0.8;\"/>\r\n   </g>\r\n   <g id=\"patch_4\">\r\n    <path d=\"M 397.66875 240.238125 \r\nL 397.66875 22.798125 \r\n\" style=\"fill:none;stroke:#000000;stroke-linecap:square;stroke-linejoin:miter;stroke-width:0.8;\"/>\r\n   </g>\r\n   <g id=\"patch_5\">\r\n    <path d=\"M 62.86875 240.238125 \r\nL 397.66875 240.238125 \r\n\" style=\"fill:none;stroke:#000000;stroke-linecap:square;stroke-linejoin:miter;stroke-width:0.8;\"/>\r\n   </g>\r\n   <g id=\"patch_6\">\r\n    <path d=\"M 62.86875 22.798125 \r\nL 397.66875 22.798125 \r\n\" style=\"fill:none;stroke:#000000;stroke-linecap:square;stroke-linejoin:miter;stroke-width:0.8;\"/>\r\n   </g>\r\n   <g id=\"text_19\">\r\n    <!-- Comparação do parâmetro k do modelo Knn -->\r\n    <defs>\r\n     <path d=\"M 52 44.1875 \r\nQ 55.375 50.25 60.0625 53.125 \r\nQ 64.75 56 71.09375 56 \r\nQ 79.640625 56 84.28125 50.015625 \r\nQ 88.921875 44.046875 88.921875 33.015625 \r\nL 88.921875 0 \r\nL 79.890625 0 \r\nL 79.890625 32.71875 \r\nQ 79.890625 40.578125 77.09375 44.375 \r\nQ 74.3125 48.1875 68.609375 48.1875 \r\nQ 61.625 48.1875 57.5625 43.546875 \r\nQ 53.515625 38.921875 53.515625 30.90625 \r\nL 53.515625 0 \r\nL 44.484375 0 \r\nL 44.484375 32.71875 \r\nQ 44.484375 40.625 41.703125 44.40625 \r\nQ 38.921875 48.1875 33.109375 48.1875 \r\nQ 26.21875 48.1875 22.15625 43.53125 \r\nQ 18.109375 38.875 18.109375 30.90625 \r\nL 18.109375 0 \r\nL 9.078125 0 \r\nL 9.078125 54.6875 \r\nL 18.109375 54.6875 \r\nL 18.109375 46.1875 \r\nQ 21.1875 51.21875 25.484375 53.609375 \r\nQ 29.78125 56 35.6875 56 \r\nQ 41.65625 56 45.828125 52.96875 \r\nQ 50 49.953125 52 44.1875 \r\nz\r\n\" id=\"DejaVuSans-109\"/>\r\n     <path d=\"M 48.78125 52.59375 \r\nL 48.78125 44.1875 \r\nQ 44.96875 46.296875 41.140625 47.34375 \r\nQ 37.3125 48.390625 33.40625 48.390625 \r\nQ 24.65625 48.390625 19.8125 42.84375 \r\nQ 14.984375 37.3125 14.984375 27.296875 \r\nQ 14.984375 17.28125 19.8125 11.734375 \r\nQ 24.65625 6.203125 33.40625 6.203125 \r\nQ 37.3125 6.203125 41.140625 7.25 \r\nQ 44.96875 8.296875 48.78125 10.40625 \r\nL 48.78125 2.09375 \r\nQ 45.015625 0.34375 40.984375 -0.53125 \r\nQ 36.96875 -1.421875 32.421875 -1.421875 \r\nQ 20.0625 -1.421875 12.78125 6.34375 \r\nQ 5.515625 14.109375 5.515625 27.296875 \r\nQ 5.515625 40.671875 12.859375 48.328125 \r\nQ 20.21875 56 33.015625 56 \r\nQ 37.15625 56 41.109375 55.140625 \r\nQ 45.0625 54.296875 48.78125 52.59375 \r\nz\r\nM 36.078125 0 \r\nQ 38.765625 -3.03125 40.078125 -5.59375 \r\nQ 41.40625 -8.15625 41.40625 -10.5 \r\nQ 41.40625 -14.84375 38.46875 -17.0625 \r\nQ 35.546875 -19.28125 29.78125 -19.28125 \r\nQ 27.546875 -19.28125 25.421875 -18.984375 \r\nQ 23.296875 -18.703125 21.1875 -18.109375 \r\nL 21.1875 -11.71875 \r\nQ 22.859375 -12.546875 24.65625 -12.90625 \r\nQ 26.46875 -13.28125 28.765625 -13.28125 \r\nQ 31.640625 -13.28125 33.109375 -12.109375 \r\nQ 34.578125 -10.9375 34.578125 -8.6875 \r\nQ 34.578125 -7.234375 33.515625 -5.109375 \r\nQ 32.46875 -2.984375 30.28125 0 \r\nz\r\n\" id=\"DejaVuSans-231\"/>\r\n     <path d=\"M 34.28125 27.484375 \r\nQ 23.390625 27.484375 19.1875 25 \r\nQ 14.984375 22.515625 14.984375 16.5 \r\nQ 14.984375 11.71875 18.140625 8.90625 \r\nQ 21.296875 6.109375 26.703125 6.109375 \r\nQ 34.1875 6.109375 38.703125 11.40625 \r\nQ 43.21875 16.703125 43.21875 25.484375 \r\nL 43.21875 27.484375 \r\nz\r\nM 52.203125 31.203125 \r\nL 52.203125 0 \r\nL 43.21875 0 \r\nL 43.21875 8.296875 \r\nQ 40.140625 3.328125 35.546875 0.953125 \r\nQ 30.953125 -1.421875 24.3125 -1.421875 \r\nQ 15.921875 -1.421875 10.953125 3.296875 \r\nQ 6 8.015625 6 15.921875 \r\nQ 6 25.140625 12.171875 29.828125 \r\nQ 18.359375 34.515625 30.609375 34.515625 \r\nL 43.21875 34.515625 \r\nL 43.21875 35.40625 \r\nQ 43.21875 41.609375 39.140625 45 \r\nQ 35.0625 48.390625 27.6875 48.390625 \r\nQ 23 48.390625 18.546875 47.265625 \r\nQ 14.109375 46.140625 10.015625 43.890625 \r\nL 10.015625 52.203125 \r\nQ 14.9375 54.109375 19.578125 55.046875 \r\nQ 24.21875 56 28.609375 56 \r\nQ 40.484375 56 46.34375 49.84375 \r\nQ 52.203125 43.703125 52.203125 31.203125 \r\nz\r\nM 28.8125 66.890625 \r\nL 26.03125 69.578125 \r\nQ 24.953125 70.5625 24.140625 71.015625 \r\nQ 23.34375 71.484375 22.703125 71.484375 \r\nQ 20.84375 71.484375 19.96875 69.703125 \r\nQ 19.09375 67.921875 19 63.921875 \r\nL 12.890625 63.921875 \r\nQ 12.984375 70.515625 15.46875 74.09375 \r\nQ 17.96875 77.6875 22.40625 77.6875 \r\nQ 24.265625 77.6875 25.828125 77 \r\nQ 27.390625 76.3125 29.203125 74.703125 \r\nL 31.984375 72.015625 \r\nQ 33.0625 71.046875 33.859375 70.578125 \r\nQ 34.671875 70.125 35.296875 70.125 \r\nQ 37.15625 70.125 38.03125 71.90625 \r\nQ 38.921875 73.6875 39.015625 77.6875 \r\nL 45.125 77.6875 \r\nQ 45.015625 71.09375 42.53125 67.5 \r\nQ 40.046875 63.921875 35.59375 63.921875 \r\nQ 33.734375 63.921875 32.171875 64.59375 \r\nQ 30.609375 65.28125 28.8125 66.890625 \r\nz\r\n\" id=\"DejaVuSans-227\"/>\r\n     <path d=\"M 34.28125 27.484375 \r\nQ 23.390625 27.484375 19.1875 25 \r\nQ 14.984375 22.515625 14.984375 16.5 \r\nQ 14.984375 11.71875 18.140625 8.90625 \r\nQ 21.296875 6.109375 26.703125 6.109375 \r\nQ 34.1875 6.109375 38.703125 11.40625 \r\nQ 43.21875 16.703125 43.21875 25.484375 \r\nL 43.21875 27.484375 \r\nz\r\nM 52.203125 31.203125 \r\nL 52.203125 0 \r\nL 43.21875 0 \r\nL 43.21875 8.296875 \r\nQ 40.140625 3.328125 35.546875 0.953125 \r\nQ 30.953125 -1.421875 24.3125 -1.421875 \r\nQ 15.921875 -1.421875 10.953125 3.296875 \r\nQ 6 8.015625 6 15.921875 \r\nQ 6 25.140625 12.171875 29.828125 \r\nQ 18.359375 34.515625 30.609375 34.515625 \r\nL 43.21875 34.515625 \r\nL 43.21875 35.40625 \r\nQ 43.21875 41.609375 39.140625 45 \r\nQ 35.0625 48.390625 27.6875 48.390625 \r\nQ 23 48.390625 18.546875 47.265625 \r\nQ 14.109375 46.140625 10.015625 43.890625 \r\nL 10.015625 52.203125 \r\nQ 14.9375 54.109375 19.578125 55.046875 \r\nQ 24.21875 56 28.609375 56 \r\nQ 40.484375 56 46.34375 49.84375 \r\nQ 52.203125 43.703125 52.203125 31.203125 \r\nz\r\nM 25.390625 79.984375 \r\nL 32.625 79.984375 \r\nL 44.578125 61.625 \r\nL 37.796875 61.625 \r\nL 29 73.578125 \r\nL 20.21875 61.625 \r\nL 13.421875 61.625 \r\nz\r\n\" id=\"DejaVuSans-226\"/>\r\n     <path d=\"M 9.078125 75.984375 \r\nL 18.109375 75.984375 \r\nL 18.109375 31.109375 \r\nL 44.921875 54.6875 \r\nL 56.390625 54.6875 \r\nL 27.390625 29.109375 \r\nL 57.625 0 \r\nL 45.90625 0 \r\nL 18.109375 26.703125 \r\nL 18.109375 0 \r\nL 9.078125 0 \r\nz\r\n\" id=\"DejaVuSans-107\"/>\r\n    </defs>\r\n    <g transform=\"translate(96.995625 16.798125)scale(0.12 -0.12)\">\r\n     <use xlink:href=\"#DejaVuSans-67\"/>\r\n     <use x=\"69.824219\" xlink:href=\"#DejaVuSans-111\"/>\r\n     <use x=\"131.005859\" xlink:href=\"#DejaVuSans-109\"/>\r\n     <use x=\"228.417969\" xlink:href=\"#DejaVuSans-112\"/>\r\n     <use x=\"291.894531\" xlink:href=\"#DejaVuSans-97\"/>\r\n     <use x=\"353.173828\" xlink:href=\"#DejaVuSans-114\"/>\r\n     <use x=\"394.287109\" xlink:href=\"#DejaVuSans-97\"/>\r\n     <use x=\"455.566406\" xlink:href=\"#DejaVuSans-231\"/>\r\n     <use x=\"510.546875\" xlink:href=\"#DejaVuSans-227\"/>\r\n     <use x=\"571.826172\" xlink:href=\"#DejaVuSans-111\"/>\r\n     <use x=\"633.007812\" xlink:href=\"#DejaVuSans-32\"/>\r\n     <use x=\"664.794922\" xlink:href=\"#DejaVuSans-100\"/>\r\n     <use x=\"728.271484\" xlink:href=\"#DejaVuSans-111\"/>\r\n     <use x=\"789.453125\" xlink:href=\"#DejaVuSans-32\"/>\r\n     <use x=\"821.240234\" xlink:href=\"#DejaVuSans-112\"/>\r\n     <use x=\"884.716797\" xlink:href=\"#DejaVuSans-97\"/>\r\n     <use x=\"945.996094\" xlink:href=\"#DejaVuSans-114\"/>\r\n     <use x=\"987.109375\" xlink:href=\"#DejaVuSans-226\"/>\r\n     <use x=\"1048.388672\" xlink:href=\"#DejaVuSans-109\"/>\r\n     <use x=\"1145.800781\" xlink:href=\"#DejaVuSans-101\"/>\r\n     <use x=\"1207.324219\" xlink:href=\"#DejaVuSans-116\"/>\r\n     <use x=\"1246.533203\" xlink:href=\"#DejaVuSans-114\"/>\r\n     <use x=\"1285.396484\" xlink:href=\"#DejaVuSans-111\"/>\r\n     <use x=\"1346.578125\" xlink:href=\"#DejaVuSans-32\"/>\r\n     <use x=\"1378.365234\" xlink:href=\"#DejaVuSans-107\"/>\r\n     <use x=\"1436.275391\" xlink:href=\"#DejaVuSans-32\"/>\r\n     <use x=\"1468.0625\" xlink:href=\"#DejaVuSans-100\"/>\r\n     <use x=\"1531.539062\" xlink:href=\"#DejaVuSans-111\"/>\r\n     <use x=\"1592.720703\" xlink:href=\"#DejaVuSans-32\"/>\r\n     <use x=\"1624.507812\" xlink:href=\"#DejaVuSans-109\"/>\r\n     <use x=\"1721.919922\" xlink:href=\"#DejaVuSans-111\"/>\r\n     <use x=\"1783.101562\" xlink:href=\"#DejaVuSans-100\"/>\r\n     <use x=\"1846.578125\" xlink:href=\"#DejaVuSans-101\"/>\r\n     <use x=\"1908.101562\" xlink:href=\"#DejaVuSans-108\"/>\r\n     <use x=\"1935.884766\" xlink:href=\"#DejaVuSans-111\"/>\r\n     <use x=\"1997.066406\" xlink:href=\"#DejaVuSans-32\"/>\r\n     <use x=\"2028.853516\" xlink:href=\"#DejaVuSans-75\"/>\r\n     <use x=\"2094.429688\" xlink:href=\"#DejaVuSans-110\"/>\r\n     <use x=\"2157.808594\" xlink:href=\"#DejaVuSans-110\"/>\r\n    </g>\r\n   </g>\r\n  </g>\r\n </g>\r\n <defs>\r\n  <clipPath id=\"p8c9f3b41cc\">\r\n   <rect height=\"217.44\" width=\"334.8\" x=\"62.86875\" y=\"22.798125\"/>\r\n  </clipPath>\r\n </defs>\r\n</svg>\r\n",
            "image/png": "[encoded data removed]"
          },
          "metadata": {
            "needs_background": "light"
          }
        }
      ]
    },
    {
      "cell_type": "markdown",
      "metadata": {
        "id": "P8UQaw5D8S-m"
      },
      "source": [
        "Pela visualização acima vemos os valores de K (número de vizinhos, parâmetro do KNN) em que a acurácia é maior, facilitando assim a tomada de decisão para escolha de valor deste parâmetro."
      ]
    }
  ]
}